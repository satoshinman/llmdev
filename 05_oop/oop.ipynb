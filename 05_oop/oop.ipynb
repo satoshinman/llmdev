{
 "cells": [
  {
   "cell_type": "code",
   "execution_count": 1,
   "id": "f550bf17",
   "metadata": {},
   "outputs": [],
   "source": [
    "# クラスの定義\n",
    "class Dog:\n",
    "    # クラスの属性\n",
    "    species = \"イヌ科イヌ属\"  # 属名（クラス変数）\n",
    "\n",
    "    # 初期化メソッド（コンストラクタ）\n",
    "    def __init__(self, name, age):\n",
    "        # インスタンスの属性\n",
    "        self.name = name  # 犬の名前\n",
    "        self.age = age    # 犬の年齢\n",
    "\n",
    "    # メソッド\n",
    "    def bark(self):\n",
    "        return f\"{self.name}、{self.age}歳だよ。ワン！\""
   ]
  },
  {
   "cell_type": "code",
   "execution_count": 4,
   "id": "8fa30ec4",
   "metadata": {},
   "outputs": [
    {
     "name": "stdout",
     "output_type": "stream",
     "text": [
      "ジョン、3歳だよ。ワン！\n",
      "ポチ、5歳だよ。ワン！\n"
     ]
    }
   ],
   "source": [
    "# クラスからインスタンスを作成\n",
    "dog1 = Dog(\"ジョン\", 3)\n",
    "dog2 = Dog(\"ポチ\", 5)\n",
    "\n",
    "print(dog1.bark())  # ジョン、3歳だよ。ワン！\n",
    "print(dog2.bark())  # ポチ、5歳だよ。ワン！"
   ]
  },
  {
   "cell_type": "code",
   "execution_count": 5,
   "id": "ff324a8c",
   "metadata": {},
   "outputs": [
    {
     "name": "stdout",
     "output_type": "stream",
     "text": [
      "ポチ\n",
      "ジョン\n"
     ]
    }
   ],
   "source": [
    "class Dog:\n",
    "    def __init__(self, name, age):\n",
    "        self.name = name  # パブリック属性\n",
    "        self.age = age    # パブリック属性\n",
    "\n",
    "dog = Dog(\"ポチ\", 5)\n",
    "print(dog.name)  # ポチと表示される\n",
    "dog.name = \"ジョン\"  # 名前を「ジョン」に変更\n",
    "print(dog.name)  # ジョンと表示される"
   ]
  },
  {
   "cell_type": "code",
   "execution_count": 6,
   "id": "12a6e14f",
   "metadata": {},
   "outputs": [
    {
     "name": "stdout",
     "output_type": "stream",
     "text": [
      "ポチ\n",
      "5\n"
     ]
    }
   ],
   "source": [
    "class Dog:\n",
    "    def __init__(self, name, age):\n",
    "        self._name = name  # 慣習的にプライベートとして扱われる属性\n",
    "        self.__age = age   # Pythonが内部で「名前修飾」し、外部からアクセスしにくくする属性\n",
    "\n",
    "dog = Dog(\"ポチ\", 5)\n",
    "print(dog._name)  # アクセス可能だが、推奨されない\n",
    "# print(dog.__age)  # エラー：直接アクセスできない\n",
    "print(dog._Dog__age)  # 特殊な形でのアクセスは可能（推奨されない）"
   ]
  },
  {
   "cell_type": "code",
   "execution_count": 7,
   "id": "7e0dfc07",
   "metadata": {},
   "outputs": [
    {
     "name": "stdout",
     "output_type": "stream",
     "text": [
      "ポチ\n",
      "ジョン\n"
     ]
    }
   ],
   "source": [
    "class Dog:\n",
    "    def __init__(self, name, age):\n",
    "        self._name = name\n",
    "        self._age = age\n",
    "\n",
    "    # ゲッター\n",
    "    def get_name(self):\n",
    "        return self._name\n",
    "\n",
    "    # セッター\n",
    "    def set_name(self, name):\n",
    "        if len(name) > 0:\n",
    "            self._name = name\n",
    "        else:\n",
    "            print(\"名前が空です。正しい名前を入力してください。\")\n",
    "\n",
    "    # ゲッター\n",
    "    def get_age(self):\n",
    "        return self._age\n",
    "\n",
    "    # セッター\n",
    "    def set_age(self, age):\n",
    "        if age > 0:\n",
    "            self._age = age\n",
    "        else:\n",
    "            print(\"年齢は1以上に設定してください。\")\n",
    "\n",
    "dog = Dog(\"ポチ\", 5)\n",
    "print(dog.get_name())  # ポチと表示される\n",
    "dog.set_name(\"ジョン\")  # 名前を「ジョン」に変更\n",
    "print(dog.get_name())  # ジョンと表示される"
   ]
  },
  {
   "cell_type": "code",
   "execution_count": 8,
   "id": "feea6ed0",
   "metadata": {},
   "outputs": [
    {
     "name": "stdout",
     "output_type": "stream",
     "text": [
      "ポチ\n",
      "ジョン\n"
     ]
    }
   ],
   "source": [
    "class Dog:\n",
    "    def __init__(self, name, age):\n",
    "        self._name = name\n",
    "        self._age = age\n",
    "\n",
    "    # プロパティを使ったゲッター\n",
    "    @property\n",
    "    def name(self):\n",
    "        return self._name\n",
    "\n",
    "    # プロパティを使ったセッター\n",
    "    @name.setter\n",
    "    def name(self, name):\n",
    "        if len(name) > 0:\n",
    "            self._name = name\n",
    "        else:\n",
    "            print(\"名前が空です。正しい名前を入力してください。\")\n",
    "\n",
    "    @property\n",
    "    def age(self):\n",
    "        return self._age\n",
    "\n",
    "    @age.setter\n",
    "    def age(self, age):\n",
    "        if age > 0:\n",
    "            self._age = age\n",
    "        else:\n",
    "            print(\"年齢は1以上に設定してください。\")\n",
    "\n",
    "dog = Dog(\"ポチ\", 5)\n",
    "print(dog.name)  # ポチと表示される（ゲッター）\n",
    "dog.name = \"ジョン\"  # 名前を「ジョン」に変更（セッター）\n",
    "print(dog.name)  # ジョンと表示される"
   ]
  },
  {
   "cell_type": "code",
   "execution_count": 9,
   "id": "1224e40f",
   "metadata": {},
   "outputs": [
    {
     "name": "stdout",
     "output_type": "stream",
     "text": [
      "何か音を出しています。\n",
      "何か音を出しています。\n",
      "ワンワン！\n"
     ]
    }
   ],
   "source": [
    "# 親クラス\n",
    "class Animal:\n",
    "    def __init__(self, name, age):\n",
    "        self.name = name\n",
    "        self.age = age\n",
    "\n",
    "    def speak(self):\n",
    "        return \"何か音を出しています。\"\n",
    "\n",
    "# 子クラス\n",
    "class Dog(Animal):\n",
    "    def bark(self):\n",
    "        return \"ワンワン！\"\n",
    "\n",
    "# Animal クラスからインスタンスを作成\n",
    "animal = Animal(\"生き物\", 5)\n",
    "print(animal.speak())  # 何か音を出しています。\n",
    "\n",
    "# Dog クラスからインスタンスを作成\n",
    "dog = Dog(\"ポチ\", 3)\n",
    "print(dog.speak())     # 何か音を出しています。（親クラスのメソッドを使用）\n",
    "print(dog.bark())      # ワンワン！（子クラス独自のメソッドを使用）"
   ]
  },
  {
   "cell_type": "code",
   "execution_count": 10,
   "id": "7985ee20",
   "metadata": {},
   "outputs": [
    {
     "name": "stdout",
     "output_type": "stream",
     "text": [
      "ポチ はワンワンと吠えています！\n"
     ]
    }
   ],
   "source": [
    "class Animal:\n",
    "    def __init__(self, name, age):\n",
    "        self.name = name\n",
    "        self.age = age\n",
    "\n",
    "    def speak(self):\n",
    "        return \"何か音を出しています。\"\n",
    "\n",
    "class Dog(Animal):\n",
    "    def speak(self):  # 親クラスの speak メソッドをオーバーライド\n",
    "        return f\"{self.name} はワンワンと吠えています！\"\n",
    "\n",
    "dog = Dog(\"ポチ\", 3)\n",
    "print(dog.speak())  # ポチ はワンワンと吠えています！"
   ]
  },
  {
   "cell_type": "code",
   "execution_count": 11,
   "id": "920f2174",
   "metadata": {},
   "outputs": [
    {
     "name": "stdout",
     "output_type": "stream",
     "text": [
      "何か音を出しています。 そして、ポチ はワンワンと吠えています！\n"
     ]
    }
   ],
   "source": [
    "class Animal:\n",
    "    def __init__(self, name, age):\n",
    "        self.name = name\n",
    "        self.age = age\n",
    "\n",
    "    def speak(self):\n",
    "        return \"何か音を出しています。\"\n",
    "\n",
    "class Dog(Animal):\n",
    "    def speak(self):\n",
    "        parent_message = super().speak()  # 親クラスの speak メソッドを呼び出す\n",
    "        return f\"{parent_message} そして、{self.name} はワンワンと吠えています！\"\n",
    "\n",
    "dog = Dog(\"ポチ\", 3)\n",
    "print(dog.speak())  # 何か音を出しています。そして、ポチ はワンワンと吠えています！"
   ]
  },
  {
   "cell_type": "code",
   "execution_count": 12,
   "id": "6cb3c3c2",
   "metadata": {},
   "outputs": [
    {
     "name": "stdout",
     "output_type": "stream",
     "text": [
      "ポチ はワンワンと吠えています！\n",
      "ミケ はニャーと鳴いています！\n"
     ]
    }
   ],
   "source": [
    "class Animal:\n",
    "    def __init__(self, name, age):\n",
    "        self.name = name\n",
    "        self.age = age\n",
    "\n",
    "    def speak(self):\n",
    "        return \"何か音を出しています。\"\n",
    "\n",
    "class Dog(Animal):\n",
    "    def speak(self):\n",
    "        return f\"{self.name} はワンワンと吠えています！\"\n",
    "\n",
    "class Cat(Animal):\n",
    "    def speak(self):\n",
    "        return f\"{self.name} はニャーと鳴いています！\"\n",
    "\n",
    "dog = Dog(\"ポチ\", 3)\n",
    "cat = Cat(\"ミケ\", 2)\n",
    "\n",
    "print(dog.speak())  # ポチ はワンワンと吠えています！\n",
    "print(cat.speak())  # ミケ はニャーと鳴いています！"
   ]
  },
  {
   "cell_type": "code",
   "execution_count": 13,
   "id": "4dc6bdbe",
   "metadata": {},
   "outputs": [
    {
     "name": "stdout",
     "output_type": "stream",
     "text": [
      "ワンワン！\n",
      "ニャー！\n"
     ]
    }
   ],
   "source": [
    "class Animal:\n",
    "    def speak(self):\n",
    "        return \"何か音を出しています。\"\n",
    "\n",
    "class Dog(Animal):\n",
    "    def speak(self):\n",
    "        return \"ワンワン！\"\n",
    "\n",
    "class Cat(Animal):\n",
    "    def speak(self):\n",
    "        return \"ニャー！\"\n",
    "\n",
    "# 各クラスのインスタンスを作成\n",
    "dog = Dog()\n",
    "cat = Cat()\n",
    "\n",
    "# 同じ speak メソッドを呼び出すが、異なる結果が返ってくる\n",
    "print(dog.speak())  # ワンワン！\n",
    "print(cat.speak())  # ニャー！"
   ]
  },
  {
   "cell_type": "code",
   "execution_count": 14,
   "id": "3698355c",
   "metadata": {},
   "outputs": [
    {
     "name": "stdout",
     "output_type": "stream",
     "text": [
      "ワンワン！\n",
      "ニャー！\n"
     ]
    }
   ],
   "source": [
    "class Animal:\n",
    "    def speak(self):\n",
    "        return \"何か音を出しています。\"\n",
    "\n",
    "class Dog(Animal):\n",
    "    def speak(self):\n",
    "        return \"ワンワン！\"\n",
    "\n",
    "class Cat(Animal):\n",
    "    def speak(self):\n",
    "        return \"ニャー！\"\n",
    "\n",
    "animals = [Dog(), Cat()]\n",
    "\n",
    "for animal in animals:\n",
    "    print(animal.speak())  # 各オブジェクトに応じたメソッドが呼ばれる"
   ]
  },
  {
   "cell_type": "code",
   "execution_count": 15,
   "id": "cbaa0120",
   "metadata": {},
   "outputs": [
    {
     "name": "stdout",
     "output_type": "stream",
     "text": [
      "ポチ がワンワンと吠えます！\n"
     ]
    }
   ],
   "source": [
    "class Dog:\n",
    "    def __init__(self, name):\n",
    "        self.name = name  # インスタンス属性\n",
    "\n",
    "    def bark(self):  # インスタンスメソッド\n",
    "        return f\"{self.name} がワンワンと吠えます！\"\n",
    "\n",
    "dog = Dog(\"ポチ\")\n",
    "print(dog.bark())  # ポチ がワンワンと吠えます！"
   ]
  },
  {
   "cell_type": "code",
   "execution_count": 16,
   "id": "43a831e2",
   "metadata": {},
   "outputs": [
    {
     "name": "stdout",
     "output_type": "stream",
     "text": [
      "イヌ科イヌ属\n"
     ]
    }
   ],
   "source": [
    "class Dog:\n",
    "    species = \"イヌ科イヌ属\"  # クラス属性\n",
    "\n",
    "    def __init__(self, name):\n",
    "        self.name = name\n",
    "\n",
    "    @classmethod\n",
    "    def get_species(cls):  # クラスメソッド\n",
    "        return cls.species\n",
    "\n",
    "print(Dog.get_species())  # イヌ科イヌ属"
   ]
  },
  {
   "cell_type": "code",
   "execution_count": 17,
   "id": "6b3d9af3",
   "metadata": {},
   "outputs": [
    {
     "name": "stdout",
     "output_type": "stream",
     "text": [
      "犬は人類の最良の友です。\n"
     ]
    }
   ],
   "source": [
    "class Dog:\n",
    "    @staticmethod\n",
    "    def info():\n",
    "        return \"犬は人類の最良の友です。\"\n",
    "\n",
    "print(Dog.info())  # 犬は人類の最良の友です。"
   ]
  },
  {
   "cell_type": "code",
   "execution_count": 18,
   "id": "c4821282",
   "metadata": {},
   "outputs": [
    {
     "name": "stdout",
     "output_type": "stream",
     "text": [
      "犬の名前: ポチ, 年齢: 5歳\n",
      "Dog(name='ポチ', age=5)\n",
      "True\n"
     ]
    }
   ],
   "source": [
    "class Dog:\n",
    "    def __init__(self, name, age):\n",
    "        self.name = name\n",
    "        self.age = age\n",
    "\n",
    "    def __str__(self):  # print()やstr()で表示される文字列\n",
    "        return f\"犬の名前: {self.name}, 年齢: {self.age}歳\"\n",
    "\n",
    "    def __repr__(self):  # repr()やデバッグの際に表示される文字列\n",
    "        return f\"Dog(name='{self.name}', age={self.age})\"\n",
    "\n",
    "    def __eq__(self, other):  # == 演算子の挙動を定義\n",
    "        return self.age == other.age\n",
    "\n",
    "dog1 = Dog(\"ポチ\", 5)\n",
    "dog2 = Dog(\"ジョン\", 5)\n",
    "\n",
    "print(dog1)  # 犬の名前: ポチ, 年齢: 5歳\n",
    "print(repr(dog1))  # Dog(name='ポチ', age=5)\n",
    "print(dog1 == dog2)  # True（年齢が同じため）"
   ]
  },
  {
   "cell_type": "code",
   "execution_count": 19,
   "id": "066674ea",
   "metadata": {},
   "outputs": [],
   "source": [
    "def add(x: int, y: int) -> int:\n",
    "    return x + y"
   ]
  },
  {
   "cell_type": "code",
   "execution_count": 20,
   "id": "e4007120",
   "metadata": {},
   "outputs": [
    {
     "name": "stdout",
     "output_type": "stream",
     "text": [
      "ワンワン！\n",
      "ニャー！\n"
     ]
    }
   ],
   "source": [
    "class Animal:\n",
    "    def speak(self):\n",
    "        pass\n",
    "\n",
    "class Dog(Animal):\n",
    "    def speak(self):\n",
    "        return \"ワンワン！\"\n",
    "\n",
    "class Cat(Animal):\n",
    "    def speak(self):\n",
    "        return \"ニャー！\"\n",
    "\n",
    "def make_animal_speak(animal: Animal):\n",
    "    print(animal.speak())\n",
    "\n",
    "make_animal_speak(Dog())  # ワンワン！\n",
    "make_animal_speak(Cat())  # ニャー！"
   ]
  }
 ],
 "metadata": {
  "kernelspec": {
   "display_name": ".venv",
   "language": "python",
   "name": "python3"
  },
  "language_info": {
   "codemirror_mode": {
    "name": "ipython",
    "version": 3
   },
   "file_extension": ".py",
   "mimetype": "text/x-python",
   "name": "python",
   "nbconvert_exporter": "python",
   "pygments_lexer": "ipython3",
   "version": "3.12.10"
  }
 },
 "nbformat": 4,
 "nbformat_minor": 5
}
