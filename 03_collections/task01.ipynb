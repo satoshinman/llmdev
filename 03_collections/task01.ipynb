{
 "cells": [
  {
   "cell_type": "code",
   "execution_count": 9,
   "id": "b1df5079",
   "metadata": {},
   "outputs": [
    {
     "name": "stdout",
     "output_type": "stream",
     "text": [
      "平均点: 86.6\n",
      "最高点: 92\n",
      "最低点: 78\n",
      "平均以上の学生数: 3\n"
     ]
    }
   ],
   "source": [
    "grades = [85, 90, 78, 92, 88]\n",
    "\n",
    "average = sum(grades) / len(grades)\n",
    "top = max(grades)\n",
    "last = min(grades)\n",
    "print(f\"平均点: {average:.1f}\")\n",
    "print(f\"最高点: {top}\")\n",
    "print(f\"最低点: {last}\")\n",
    "average_over = [grade for grade in grades if grade >= average] # 「条件」で特定の要素だけをリストに含める\n",
    "print(f\"平均以上の学生数: {len(average_over)}\")"
   ]
  },
  {
   "cell_type": "code",
   "execution_count": 11,
   "id": "6521e23d",
   "metadata": {},
   "outputs": [
    {
     "name": "stdout",
     "output_type": "stream",
     "text": [
      "平均点: 80.0\n",
      "最高点: 90\n",
      "最低点: 70\n",
      "平均以上の学生数: 3\n"
     ]
    }
   ],
   "source": [
    "grades = [70, 75, 80, 85, 90]\n",
    "\n",
    "average = sum(grades) / len(grades)\n",
    "top = max(grades)\n",
    "last = min(grades)\n",
    "print(f\"平均点: {average:.1f}\")\n",
    "print(f\"最高点: {top}\")\n",
    "print(f\"最低点: {last}\")\n",
    "average_over = [grade for grade in grades if grade >= average] # 「条件」で特定の要素だけをリストに含める\n",
    "print(f\"平均以上の学生数: {len(average_over)}\")"
   ]
  }
 ],
 "metadata": {
  "kernelspec": {
   "display_name": ".venv",
   "language": "python",
   "name": "python3"
  },
  "language_info": {
   "codemirror_mode": {
    "name": "ipython",
    "version": 3
   },
   "file_extension": ".py",
   "mimetype": "text/x-python",
   "name": "python",
   "nbconvert_exporter": "python",
   "pygments_lexer": "ipython3",
   "version": "3.12.10"
  }
 },
 "nbformat": 4,
 "nbformat_minor": 5
}
