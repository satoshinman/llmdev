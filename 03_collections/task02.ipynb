{
 "cells": [
  {
   "cell_type": "code",
   "execution_count": 5,
   "id": "f491249e",
   "metadata": {},
   "outputs": [
    {
     "name": "stdout",
     "output_type": "stream",
     "text": [
      "入力された英単語: ['bear', 'cat', 'dog', 'giraffe', 'horse', 'kangaroo']\n",
      "aが5個ありました\n",
      "bが1個ありました\n",
      "cが1個ありました\n",
      "dが1個ありました\n",
      "eが3個ありました\n",
      "fが2個ありました\n",
      "gが3個ありました\n",
      "hが1個ありました\n",
      "iが1個ありました\n",
      "kが1個ありました\n",
      "nが1個ありました\n",
      "oが4個ありました\n",
      "rが4個ありました\n",
      "sが1個ありました\n",
      "tが1個ありました\n"
     ]
    }
   ],
   "source": [
    "import string\n",
    "\n",
    "word_list = []\n",
    "while True:\n",
    "  word = input(\"英単語を入力してください (空入力で終了): \")\n",
    "  if word == \"\":\n",
    "    break\n",
    "  word_list.append(word)\n",
    "\n",
    "print(\"入力された英単語:\", word_list)\n",
    "\n",
    "alphabet = string.ascii_lowercase\n",
    "char_count = {}\n",
    "for c in alphabet:\n",
    "  char_count[c] = 0\n",
    "\n",
    "for word in word_list:\n",
    "    for c in word:\n",
    "        char_count[c] += 1\n",
    "\n",
    "for c, count in char_count.items():\n",
    "    if count > 0:\n",
    "      print(f\"{c}が{count}個ありました\")\n"
   ]
  }
 ],
 "metadata": {
  "kernelspec": {
   "display_name": ".venv",
   "language": "python",
   "name": "python3"
  },
  "language_info": {
   "codemirror_mode": {
    "name": "ipython",
    "version": 3
   },
   "file_extension": ".py",
   "mimetype": "text/x-python",
   "name": "python",
   "nbconvert_exporter": "python",
   "pygments_lexer": "ipython3",
   "version": "3.12.10"
  }
 },
 "nbformat": 4,
 "nbformat_minor": 5
}
