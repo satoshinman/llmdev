{
 "cells": [
  {
   "cell_type": "code",
   "execution_count": 6,
   "id": "f29fc138",
   "metadata": {},
   "outputs": [
    {
     "name": "stdout",
     "output_type": "stream",
     "text": [
      "Content saved in: 20250821_152852.txt\n"
     ]
    }
   ],
   "source": [
    "def save_url_content(url):\n",
    "    import datetime\n",
    "    import urllib.request\n",
    "\n",
    "    response = urllib.request.urlopen(url)\n",
    "    html_content = response.read()\n",
    "    html_utf8 = html_content.decode(\"utf-8\")\n",
    "    html_500 = html_utf8[:500]\n",
    "\n",
    "    now = datetime.datetime.now()\n",
    "    file_name = now.strftime(\"%Y%m%d_%H%M%S.txt\")\n",
    "    with open(file_name, \"w\", encoding=\"utf-8\") as file:\n",
    "        file.write(html_500)\n",
    "\n",
    "    return file_name\n",
    "\n",
    "url = input(\"URLを入力してください: \")\n",
    "file_name = save_url_content(url)\n",
    "print(f\"Content saved in: {file_name}\")\n"
   ]
  }
 ],
 "metadata": {
  "kernelspec": {
   "display_name": ".venv",
   "language": "python",
   "name": "python3"
  },
  "language_info": {
   "codemirror_mode": {
    "name": "ipython",
    "version": 3
   },
   "file_extension": ".py",
   "mimetype": "text/x-python",
   "name": "python",
   "nbconvert_exporter": "python",
   "pygments_lexer": "ipython3",
   "version": "3.12.10"
  }
 },
 "nbformat": 4,
 "nbformat_minor": 5
}
