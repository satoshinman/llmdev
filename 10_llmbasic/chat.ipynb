{
 "cells": [
  {
   "cell_type": "code",
   "execution_count": 2,
   "id": "d9167c45",
   "metadata": {},
   "outputs": [],
   "source": [
    "# 必要なモジュールをインポート\n",
    "import os\n",
    "from dotenv import load_dotenv\n",
    "from openai import OpenAI\n",
    "from pprint import pprint\n",
    "\n",
    "# 環境変数の取得\n",
    "load_dotenv(\"../.env\")\n",
    "\n",
    "# OpenAI APIクライアントを生成\n",
    "client = OpenAI(api_key=os.environ['API_KEY'])\n",
    "\n",
    "# モデル名\n",
    "MODEL_NAME = \"gpt-4o-mini\""
   ]
  },
  {
   "cell_type": "code",
   "execution_count": 3,
   "id": "a354483f",
   "metadata": {},
   "outputs": [
    {
     "name": "stdout",
     "output_type": "stream",
     "text": [
      "{'_request_id': 'req_79a210aff4024297a759ca5b9ff4fbbc',\n",
      " 'choices': [Choice(finish_reason='stop', index=0, logprobs=None, message=ChatCompletionMessage(content='言語モデルを効果的に活用するためのポイントはいくつかあります。以下にいくつかの重要な点を挙げます。\\n\\n1. **明確な目的を持つ**: 言語モデルを使用する目的を明確にすることが重要です。例えば、文章生成、質問応答、要約、翻訳など、目的によってアプローチが異なります。\\n\\n2. **プロンプト設計**: モデルに与える入力（プロンプト）が結果に大きな影響を与えます。具体的かつ明確な指示を与えることで、より良い結果を得ることができます。\\n\\n3. **コンテキストの提供**: モデルが知識をより正確に活用できるようにするため、関連する背景情報や文脈を提供することが重要です。\\n\\n4. **フィードバックの活用**: モデルの出力を評価し、必要に応じてフィードバックを与えることで、次回の入力を改善することができます。\\n\\n5. **倫理的配慮**: 言語モデルの使用には倫理的な問題が伴う場合があります。バイアスのある出力や誤情報の生成に注意し、適切な利用を心がけることが必要です。\\n\\n6. **限界を理解する**: 言語モデルには限界があります。例えば、事実誤認や不正確な情報を生成することがあるため、結果を鵜呑みにせず確認する姿勢が重要です。\\n\\n7. **継続的な学習**: 新しい技術や研究が進む中で、最新の情報を学び続け、適切な方法でモデルを活用することが必要です。\\n\\nこれらのポイントを踏まえることで、言語モデルをより効果的に活用できるでしょう。', refusal=None, role='assistant', audio=None, function_call=None, tool_calls=None, annotations=[]))],\n",
      " 'created': 1756344091,\n",
      " 'id': 'chatcmpl-C9LcRNp2UgSsnw5SiyKzAsgnLLpPa',\n",
      " 'model': 'gpt-4o-mini-2024-07-18',\n",
      " 'object': 'chat.completion',\n",
      " 'service_tier': 'default',\n",
      " 'system_fingerprint': 'fp_560af6e559',\n",
      " 'usage': CompletionUsage(completion_tokens=430, prompt_tokens=18, total_tokens=448, completion_tokens_details=CompletionTokensDetails(accepted_prediction_tokens=0, audio_tokens=0, reasoning_tokens=0, rejected_prediction_tokens=0), prompt_tokens_details=PromptTokensDetails(audio_tokens=0, cached_tokens=0))}\n"
     ]
    }
   ],
   "source": [
    "# メッセージの設定\n",
    "message = \"言語モデルを使う上でのポイントは\"\n",
    "\n",
    "# APIへリクエスト\n",
    "response = client.chat.completions.create(\n",
    "    model=MODEL_NAME,\n",
    "    messages=[\n",
    "        {\"role\": \"user\", \"content\": message},\n",
    "    ]\n",
    ")\n",
    "\n",
    "# レスポンスの表示\n",
    "pprint(vars(response))"
   ]
  },
  {
   "cell_type": "code",
   "execution_count": 4,
   "id": "5b53e452",
   "metadata": {},
   "outputs": [
    {
     "name": "stdout",
     "output_type": "stream",
     "text": [
      "言語モデルを効果的に活用するためのポイントはいくつかあります。以下にいくつかの重要な点を挙げます。\n",
      "\n",
      "1. **明確な目的を持つ**: 言語モデルを使用する目的を明確にすることが重要です。例えば、文章生成、質問応答、要約、翻訳など、目的によってアプローチが異なります。\n",
      "\n",
      "2. **プロンプト設計**: モデルに与える入力（プロンプト）が結果に大きな影響を与えます。具体的かつ明確な指示を与えることで、より良い結果を得ることができます。\n",
      "\n",
      "3. **コンテキストの提供**: モデルが知識をより正確に活用できるようにするため、関連する背景情報や文脈を提供することが重要です。\n",
      "\n",
      "4. **フィードバックの活用**: モデルの出力を評価し、必要に応じてフィードバックを与えることで、次回の入力を改善することができます。\n",
      "\n",
      "5. **倫理的配慮**: 言語モデルの使用には倫理的な問題が伴う場合があります。バイアスのある出力や誤情報の生成に注意し、適切な利用を心がけることが必要です。\n",
      "\n",
      "6. **限界を理解する**: 言語モデルには限界があります。例えば、事実誤認や不正確な情報を生成することがあるため、結果を鵜呑みにせず確認する姿勢が重要です。\n",
      "\n",
      "7. **継続的な学習**: 新しい技術や研究が進む中で、最新の情報を学び続け、適切な方法でモデルを活用することが必要です。\n",
      "\n",
      "これらのポイントを踏まえることで、言語モデルをより効果的に活用できるでしょう。\n"
     ]
    }
   ],
   "source": [
    "# 言語モデルからの回答を表示\n",
    "print(response.choices[0].message.content.strip())"
   ]
  },
  {
   "cell_type": "code",
   "execution_count": 5,
   "id": "23d1f08b",
   "metadata": {},
   "outputs": [
    {
     "name": "stdout",
     "output_type": "stream",
     "text": [
      "新製品の発売に向けた効果的なマーケティング戦略は、以下のステップに分けて考えることができます。\n",
      "\n",
      "### 1. 市場調査とターゲット設定\n",
      "- **市場調査**: 競合分析や顧客ニーズの調査を行い、新製品がどのようなギャップを埋めるかを明確にします。\n",
      "- **ターゲット設定**: ターゲットとなる顧客セグメントを定義し、それぞれのニーズや購買行動を理解します。\n",
      "\n",
      "### 2. USP（独自の販売提案）の明確化\n",
      "- 新製品の特徴や利点を洗練させ、他社製品との差別化ポイントを明確にします。消費者にとっての価値をしっかり伝えることが重要です。\n",
      "\n",
      "### 3. マーケティングミックスの構築（4P）\n",
      "- **製品（Product）**: 製品の仕様やパッケージング、デザインにこだわり、ターゲット層の心に響くものにします。\n",
      "- **価格（Price）**: 競争力のある価格設定を行い、顧客が受け入れやすい価格帯を考えます。割引やプロモーションも検討します。\n",
      "- **流通（Place）**: 製品をどのように流通させるかを計画します。オンライン、オフラインのチャネルを活用し、顧客にアクセスできる方法を構築します。\n",
      "- **プロモーション（Promotion）**: マルチチャネルでのプロモーション活動を実施します。広告、PR、SNS、インフルエンサーとのコラボなどを適切に組み合わせます。\n",
      "\n",
      "### 4. プレ・ローンチ活動\n",
      "- **ティーザーキャンペーン**: 紹介前に製品のヒントを出すことで、関心を引きつけます。\n",
      "- **プレスリリースとメディアへのアプローチ**: 専門メディアや人気のブログに製品情報を提供し、事前の露出を図ります。\n",
      "\n",
      "### 5. ローンチ活動\n",
      "- **イベントの開催**: 商品発表イベントや体験会を実施し、実際に製品を手に取ってもらう機会を提供します。\n",
      "- **デジタルマーケティング**: SNS広告、リスティング広告を駆使して、ターゲットに直接訴求します。\n",
      "\n",
      "### 6. ローンチ後のフォローアップ\n",
      "- **顧客フィードバックの収集**: 購入後の顧客からのフィードバックを収集し、改善点を洗い出します。\n",
      "- **リテンション戦略**: リピーターを増やすためのアフターサービスやプロモーションを行い、顧客のロイヤルティを高めます。\n",
      "\n",
      "### 7. KPIの設定と分析\n",
      "- 成果を測定するためのKPI（重要業績評価指標）を設定し、ローンチ後に効果を分析して今後の改善に役立てます。\n",
      "\n",
      "これらのステップを踏むことで、新製品の成功確率を高めることができます。マーケティング活動は柔軟に調整しながら進めることが重要です。\n"
     ]
    }
   ],
   "source": [
    "# 役割や前提の設定\n",
    "role = \"あなたはマーケティング分野に精通したビジネスコンサルタントです。企業の成長をサポートするために、効果的なマーケティング戦略を提供します。\"\n",
    "\n",
    "# メッセージの設定\n",
    "message = \"新製品の発売に向けた効果的なマーケティング戦略を教えてください。\"\n",
    "\n",
    "# APIへリクエスト\n",
    "response = client.chat.completions.create(\n",
    "    model=MODEL_NAME,\n",
    "    messages=[\n",
    "        {\"role\": \"system\", \"content\": role},\n",
    "        {\"role\": \"user\", \"content\": message},\n",
    "    ],\n",
    ")\n",
    "\n",
    "# 言語モデルからの回答を表示\n",
    "print(response.choices[0].message.content.strip())"
   ]
  },
  {
   "cell_type": "code",
   "execution_count": 6,
   "id": "079328c1",
   "metadata": {},
   "outputs": [
    {
     "name": "stdout",
     "output_type": "stream",
     "text": [
      "--------------------\n",
      "日本の魅力は多岐にわたり、自然や文化、食、歴史などさまざまな面で楽しむことができます。以下にいくつかのポイントを紹介します。\n",
      "\n",
      "### 1. 美しい自然\n",
      "日本は四季があり、それぞれの季節に息を飲むような美しさがあります。春の桜、夏の緑郎燕南英、秋の紅葉、冬の雪\n",
      "--------------------\n",
      "もちろんです！日本は多様で魅力的な文化や自然、美しい歴史的な場所があります。いくつかのポイントを挙げてみますね。\n",
      "\n",
      "### 1. 文化と伝統\n",
      "日本の文化は十分に古く、訪れる人々に深い感動を与えます。茶道、書道、華道といった伝統的な技術は、礼儀や美意識を重\n",
      "--------------------\n",
      "日本の魅力は多岐にわたります。以下はいくつかの代表的なポイントです。\n",
      "\n",
      "### 1. 美しい風景\n",
      "- **四季の移り変わり**: 日本は四季がはっきりしており、春の桜、夏の青葉、秋の紅葉、冬の雪景色がそれぞれ楽しめます。\n",
      "- **自然の美**: 富士山や多く\n"
     ]
    }
   ],
   "source": [
    "# 出力の多様性\n",
    "message = \"日本の魅力を紹介して！\"\n",
    "\n",
    "# APIへリクエスト\n",
    "response = client.chat.completions.create(\n",
    "    model=MODEL_NAME,\n",
    "    messages=[\n",
    "        {\"role\": \"user\", \"content\": message},\n",
    "    ],\n",
    "    temperature=1.4,\n",
    "    n = 3, # 3回答を得る\n",
    "    max_completion_tokens = 100 # 出力トークン長を制限\n",
    ")\n",
    "\n",
    "# 結果を表示（複数回答を比較）\n",
    "for choice in response.choices:\n",
    "    print(\"-\" * 20)\n",
    "    print(choice.message.content.strip())"
   ]
  },
  {
   "cell_type": "code",
   "execution_count": 8,
   "id": "2d8ab811",
   "metadata": {},
   "outputs": [
    {
     "name": "stdout",
     "output_type": "stream",
     "text": [
      "--------------------\n",
      "もちろん、日本の魅力をいくつか紹介しますね！\n",
      "\n",
      "1. **豊かな自然**: 日本は山、海、湖など多様な自然環境があります。特に四季がはっきりしており、春には桜、夏には緑、秋には紅葉、冬には雪景色を楽しむことができます。\n",
      "\n",
      "2. **文化と伝統**: 日本は古代からの伝統芸能や祭り\n",
      "--------------------\n",
      "日本の魅力は多岐にわたり、文化、自然、美食などさまざまな要素が融合しています。以下にいくつかの特徴を挙げてみます。\n",
      "\n",
      "### 1. 美しい自然\n",
      "- **四季**: 日本には春（桜）、夏（海や花火）、秋（紅葉）、冬（雪景色）といった美しい四季があります。それぞれに特有の風\n",
      "--------------------\n",
      "もちろんです！日本には多くの魅力がありますので、いくつかご紹介しますね。\n",
      "\n",
      "### 1. **豊かな自然**\n",
      "日本は四季がはっきりしており、それぞれの季節に美しい景色を楽しむことができます。春には桜、夏には海や花火、秋には紅葉、冬には雪景色と、多様な自然の美しさが堪能できます。\n",
      "\n",
      "###\n"
     ]
    }
   ],
   "source": [
    "# 出力の多様性\n",
    "message = \"日本の魅力を紹介して！\"\n",
    "\n",
    "# APIへリクエスト\n",
    "response = client.chat.completions.create(\n",
    "    model=MODEL_NAME,\n",
    "    messages=[\n",
    "        {\"role\": \"user\", \"content\": message},\n",
    "    ],\n",
    "    presence_penalty=2.0,\n",
    "    n = 3, # 3回答を得る\n",
    "    max_completion_tokens = 100 # 出力トークン長を制限\n",
    ")\n",
    "\n",
    "# 結果を表示（複数回答を比較）\n",
    "for choice in response.choices:\n",
    "    print(\"-\" * 20)\n",
    "    print(choice.message.content.strip())"
   ]
  },
  {
   "cell_type": "code",
   "execution_count": 9,
   "id": "e05d4818",
   "metadata": {},
   "outputs": [
    {
     "name": "stdout",
     "output_type": "stream",
     "text": [
      "tokens_count=2\n",
      "tokens=[95839, 3393]\n"
     ]
    }
   ],
   "source": [
    "import tiktoken\n",
    "from tiktoken.core import Encoding\n",
    "\n",
    "# OpenAI APIの特定のモデルに対応するトークナイザーを取得\n",
    "encoding: Encoding = tiktoken.encoding_for_model(MODEL_NAME) # o200k_base\n",
    "\n",
    "# テキストをトークンIDのリストに変換\n",
    "tokens = encoding.encode(\"こんにちは！\")\n",
    "tokens_count = len(tokens)\n",
    "\n",
    "# トークンの長さとトークンIDを表示\n",
    "print(f\"{tokens_count=}\")\n",
    "print(f\"{tokens=}\")"
   ]
  },
  {
   "cell_type": "code",
   "execution_count": 10,
   "id": "2cc8b39c",
   "metadata": {},
   "outputs": [
    {
     "name": "stdout",
     "output_type": "stream",
     "text": [
      "--------------------\n",
      "B:こんにちは！Aさん、元気ですか？\n",
      "--------------------\n",
      "B:こんにちは、Aさん！最近どうですか？\n",
      "--------------------\n",
      "B:こんにちは、Aさん！最近どうしてる？\n"
     ]
    }
   ],
   "source": [
    "# トークンの選択度合い\n",
    "message = \"\"\"\n",
    "AさんとBさんで会話してください。\n",
    "A:あ、Bさんだ。\n",
    "B:\n",
    "\"\"\"\n",
    "\n",
    "# APIへリクエスト\n",
    "response = client.chat.completions.create(\n",
    "    model=MODEL_NAME,\n",
    "    messages=[\n",
    "        {\"role\": \"user\", \"content\": message},\n",
    "    ],\n",
    "    max_tokens=100,\n",
    "    n=3,\n",
    "    logit_bias = {95839:8, 3393:8}\n",
    ")\n",
    "\n",
    "# 結果を表示\n",
    "for choice in response.choices:\n",
    "    print(\"-\" * 20)\n",
    "    print(choice.message.content.strip())"
   ]
  },
  {
   "cell_type": "code",
   "execution_count": 11,
   "id": "1781a982",
   "metadata": {},
   "outputs": [
    {
     "name": "stdout",
     "output_type": "stream",
     "text": [
      "言語モデルを効果的に活用するためのポイントはいくつかあります：\n",
      "\n",
      "1. **明確な目的を設定する**: 何を達成したいのか、具体的な目的やゴールを明確にします。たとえば、情報検索、文章生成、要約などです。\n",
      "\n",
      "2. **質問の構造に注意する**: モデルに対して質問や指示を出す際には、明確で具体的な言葉を使うことが重要です。あいまいな表現は避け、具体的な情報を提供することで、より良い結果が得られます。\n",
      "\n",
      "3. **コンテキストを提供する**: モデルに求める情報や生成して欲しい内容に関連する背景情報を提供すると、より適切な応答が得られます。\n",
      "\n",
      "4. **フィードバックを活用する**: モデルの出力に対してフィードバックを与えることで、より望ましい結果を得られます。生成されたテキストに対する評価を行い、必要に応じて入力を調整します。\n",
      "\n",
      "5. **多様な試行を行う**: 同じ問題に対して異なるアプローチや質問を試みることで、多様な視点や解決策を得ることができます。\n",
      "\n",
      "6. **倫理とバイアスに注意する**: モデルが生成する内容には意図しないバイアスが含まれることがあります。倫理的な観点を考慮し、敏感なトピックには注意を払いましょう。\n",
      "\n",
      "7. **限界を理解する**: モデルには限界があるため、生成された情報が正確であるとは限りません。特に専門的な内容や最新の情報に関しては、他の信頼できるソースと照らし合わせることが重要です。\n",
      "\n",
      "8. **実験を行う**: モデルの出力を評価しながら、さまざまな設定やパラメータを試行し、最適な方法を見つけることも有効です。\n",
      "\n",
      "これらのポイントを考慮することで、言語モデルをより効果的に活用できるようになるでしょう。"
     ]
    }
   ],
   "source": [
    "# メッセージの設定\n",
    "message = \"言語モデルを使う上でのポイントは\"\n",
    "\n",
    "# APIへリクエスト\n",
    "stream = client.chat.completions.create(\n",
    "    model=MODEL_NAME,\n",
    "    messages=[\n",
    "        {\"role\": \"user\", \"content\": message},\n",
    "    ],\n",
    "    stream=True,\n",
    ")\n",
    "\n",
    "for chunk in stream:\n",
    "    if chunk.choices:\n",
    "        if chunk.choices[0].delta.content is not None:\n",
    "            print(chunk.choices[0].delta.content, end=\"\")\n"
   ]
  }
 ],
 "metadata": {
  "kernelspec": {
   "display_name": ".venv",
   "language": "python",
   "name": "python3"
  },
  "language_info": {
   "codemirror_mode": {
    "name": "ipython",
    "version": 3
   },
   "file_extension": ".py",
   "mimetype": "text/x-python",
   "name": "python",
   "nbconvert_exporter": "python",
   "pygments_lexer": "ipython3",
   "version": "3.12.10"
  }
 },
 "nbformat": 4,
 "nbformat_minor": 5
}
