{
 "cells": [
  {
   "cell_type": "code",
   "execution_count": 1,
   "id": "4610b2ba",
   "metadata": {},
   "outputs": [],
   "source": [
    "# 必要なモジュールをインポート\n",
    "import os\n",
    "from dotenv import load_dotenv\n",
    "from openai import OpenAI\n",
    "from pprint import pprint\n",
    "\n",
    "# 環境変数の取得\n",
    "load_dotenv(\"../.env\")\n",
    "\n",
    "# OpenAI APIクライアントを生成\n",
    "client = OpenAI(api_key=os.environ['API_KEY'])\n",
    "\n",
    "# モデル名\n",
    "MODEL_NAME = \"gpt-4o-mini\""
   ]
  },
  {
   "cell_type": "code",
   "execution_count": 2,
   "id": "c5878588",
   "metadata": {},
   "outputs": [
    {
     "name": "stdout",
     "output_type": "stream",
     "text": [
      "質問:こんにちは！どういったことをお手伝いできますか？\n",
      "こんにちは！さまざまなことについてお手伝いできますよ。質問や相談、情報提供、アイデア出しなど、何か特定のことがあれば教えてください。何についてお話ししましょうか？質問:初心者にオススメのプログラミング言語を3つ教えて\n",
      "初心者におすすめのプログラミング言語を3つご紹介します。\n",
      "\n",
      "1. **Python**:\n",
      "   - **特徴**: シンプルで読みやすい文法が特徴です。オープンソースでライブラリも豊富なので、データ分析、Web開発、AIなどさまざまな分野で使われています。\n",
      "   - **用途**: Webアプリケーション、データ分析、機械学習、スクリプト作成など。\n",
      "\n",
      "2. **JavaScript**:\n",
      "   - **特徴**: ブラウザで動作するプログラミング言語で、Web開発に必要不可欠です。インタラクティブなウェブサイトを作成するために使われます。\n",
      "   - **用途**: Webサイトのフロントエンド開発、Node.jsを使ったサーバーサイド開発、モバイルアプリ開発など。\n",
      "\n",
      "3. **Ruby**:\n",
      "   - **特徴**: コードの読みやすさを重視した言語で、シンプルで直感的な文法が特徴です。特にRuby on Railsというフレームワークを使うことでWebアプリケーション開発が容易になります。\n",
      "   - **用途**: Webアプリケーション、スクリプト作成、プロトタイピングなど。\n",
      "\n",
      "これらの言語は学びやすく、コミュニティやリソースも充実しているため、初心者にとって良い選択肢です。興味のある分野に合わせて選んでみてください！質問:1つ目のプログラミング言語の名前は？\n",
      "1つ目のプログラミング言語は「Python」です。シンプルで読みやすい文法が特徴で、さまざまな分野で広く使われています。何かPythonについて具体的に知りたいことがあれば、教えてください！\n",
      "---ご利用ありがとうございました！---\n"
     ]
    }
   ],
   "source": [
    "# メッセージを格納するリスト\n",
    "messages=[]\n",
    "\n",
    "while(True):\n",
    "    # ユーザーからの質問を受付\n",
    "    message = input(\"メッセージを入力:\")\n",
    "    # 質問が入力されなければ終了\n",
    "    if message.strip()==\"\":\n",
    "        break\n",
    "    print(f\"質問:{message}\")\n",
    "\n",
    "    # メッセージにユーザーからの質問を追加\n",
    "    messages.append({\"role\": \"user\", \"content\": message.strip()})\n",
    "    # やりとりが8を超えたら古いメッセージから削除\n",
    "    if len(messages) > 8:\n",
    "        del_message = messages.pop(0)\n",
    "\n",
    "    # APIへリクエスト\n",
    "    stream = client.chat.completions.create(\n",
    "        model=MODEL_NAME,\n",
    "        messages=messages,\n",
    "        stream=True,\n",
    "    )\n",
    "\n",
    "    # 言語モデルからの回答を表示\n",
    "    response_message = \"\"\n",
    "    for chunk in stream:\n",
    "        if chunk.choices:\n",
    "            next = chunk.choices[0].delta.content\n",
    "            if next is not None:\n",
    "                response_message += next\n",
    "                print(next, end='', flush=True)\n",
    "\n",
    "    # メッセージに言語モデルからの回答を追加\n",
    "    messages.append({\"role\": \"assistant\", \"content\": response_message})\n",
    "\n",
    "print(\"\\n---ご利用ありがとうございました！---\")"
   ]
  }
 ],
 "metadata": {
  "kernelspec": {
   "display_name": ".venv",
   "language": "python",
   "name": "python3"
  },
  "language_info": {
   "codemirror_mode": {
    "name": "ipython",
    "version": 3
   },
   "file_extension": ".py",
   "mimetype": "text/x-python",
   "name": "python",
   "nbconvert_exporter": "python",
   "pygments_lexer": "ipython3",
   "version": "3.12.10"
  }
 },
 "nbformat": 4,
 "nbformat_minor": 5
}
