{
 "cells": [
  {
   "cell_type": "code",
   "execution_count": 1,
   "id": "c10bcf08",
   "metadata": {},
   "outputs": [],
   "source": [
    "# 必要なモジュールをインポート\n",
    "import os\n",
    "from dotenv import load_dotenv\n",
    "from openai import OpenAI\n",
    "import pandas as pd\n",
    "\n",
    "# 環境変数の取得\n",
    "load_dotenv()\n",
    "\n",
    "# OpenAI APIクライアントを生成\n",
    "client = OpenAI(api_key=os.environ['API_KEY'])\n",
    "\n",
    "# モデル名\n",
    "MODEL_NAME = \"gpt-4o-mini\""
   ]
  },
  {
   "cell_type": "code",
   "execution_count": 2,
   "id": "09128b34",
   "metadata": {},
   "outputs": [
    {
     "data": {
      "text/html": [
       "<div>\n",
       "<style scoped>\n",
       "    .dataframe tbody tr th:only-of-type {\n",
       "        vertical-align: middle;\n",
       "    }\n",
       "\n",
       "    .dataframe tbody tr th {\n",
       "        vertical-align: top;\n",
       "    }\n",
       "\n",
       "    .dataframe thead th {\n",
       "        text-align: right;\n",
       "    }\n",
       "</style>\n",
       "<table border=\"1\" class=\"dataframe\">\n",
       "  <thead>\n",
       "    <tr style=\"text-align: right;\">\n",
       "      <th></th>\n",
       "      <th>カテゴリー</th>\n",
       "      <th>商品コード</th>\n",
       "      <th>商品名</th>\n",
       "      <th>売上日</th>\n",
       "      <th>単価</th>\n",
       "      <th>数量</th>\n",
       "      <th>原価</th>\n",
       "    </tr>\n",
       "  </thead>\n",
       "  <tbody>\n",
       "    <tr>\n",
       "      <th>0</th>\n",
       "      <td>食品</td>\n",
       "      <td>1001</td>\n",
       "      <td>りんご</td>\n",
       "      <td>2023-01-01</td>\n",
       "      <td>200</td>\n",
       "      <td>50</td>\n",
       "      <td>120</td>\n",
       "    </tr>\n",
       "    <tr>\n",
       "      <th>1</th>\n",
       "      <td>食品</td>\n",
       "      <td>1002</td>\n",
       "      <td>バナナ</td>\n",
       "      <td>2023-01-01</td>\n",
       "      <td>150</td>\n",
       "      <td>100</td>\n",
       "      <td>80</td>\n",
       "    </tr>\n",
       "    <tr>\n",
       "      <th>2</th>\n",
       "      <td>食品</td>\n",
       "      <td>1003</td>\n",
       "      <td>牛乳</td>\n",
       "      <td>2023-01-02</td>\n",
       "      <td>180</td>\n",
       "      <td>80</td>\n",
       "      <td>100</td>\n",
       "    </tr>\n",
       "    <tr>\n",
       "      <th>3</th>\n",
       "      <td>衣服</td>\n",
       "      <td>2001</td>\n",
       "      <td>Tシャツ</td>\n",
       "      <td>2023-01-02</td>\n",
       "      <td>1500</td>\n",
       "      <td>20</td>\n",
       "      <td>800</td>\n",
       "    </tr>\n",
       "    <tr>\n",
       "      <th>4</th>\n",
       "      <td>衣服</td>\n",
       "      <td>2002</td>\n",
       "      <td>ジーンズ</td>\n",
       "      <td>2023-01-03</td>\n",
       "      <td>5000</td>\n",
       "      <td>10</td>\n",
       "      <td>2500</td>\n",
       "    </tr>\n",
       "  </tbody>\n",
       "</table>\n",
       "</div>"
      ],
      "text/plain": [
       "  カテゴリー  商品コード   商品名        売上日    単価   数量    原価\n",
       "0    食品   1001   りんご 2023-01-01   200   50   120\n",
       "1    食品   1002   バナナ 2023-01-01   150  100    80\n",
       "2    食品   1003    牛乳 2023-01-02   180   80   100\n",
       "3    衣服   2001  Tシャツ 2023-01-02  1500   20   800\n",
       "4    衣服   2002  ジーンズ 2023-01-03  5000   10  2500"
      ]
     },
     "execution_count": 2,
     "metadata": {},
     "output_type": "execute_result"
    }
   ],
   "source": [
    "# 1. Excelファイルを読み込む\n",
    "df = pd.read_excel('サンプルデータ.xlsx', sheet_name='売上データ')\n",
    "# データフレームを表示して確認\n",
    "df.head()"
   ]
  },
  {
   "cell_type": "code",
   "execution_count": 3,
   "id": "8f1109db",
   "metadata": {},
   "outputs": [
    {
     "name": "stdout",
     "output_type": "stream",
     "text": [
      "売上データ:\n",
      "    カテゴリー 商品コード      商品名         売上日    単価   数量    原価\n",
      "0      食品  1001      りんご  2023-01-01   200   50   120\n",
      "1      食品  1002      バナナ  2023-01-01   150  100    80\n",
      "2      食品  1003       牛乳  2023-01-02   180   80   100\n",
      "3      衣服  2001     Tシャツ  2023-01-02  1500   20   800\n",
      "4      衣服  2002     ジーンズ  2023-01-03  5000   10  2500\n",
      "..    ...   ...      ...         ...   ...  ...   ...\n",
      "235    衣服  2077   レインパンツ  2023-04-28  2000   18  1000\n",
      "236    食品  1085      ザクロ  2023-04-29   600   40   300\n",
      "237   日用品  3077    バスブラシ  2023-04-29   400   60   200\n",
      "238    衣服  2078  レインシューズ  2023-04-30  2500   15  1250\n",
      "239    食品  1086    ココナッツ  2023-04-30   300   80   150\n",
      "\n",
      "[240 rows x 7 columns]\n",
      "この売上データの傾向を分析してください。\n"
     ]
    }
   ],
   "source": [
    "# 2. データをLLM用にテキスト形式に変換\n",
    "# データフレーム全体を文字列に変換\n",
    "sales_data_text = df.astype(str)\n",
    "prompt_text = f\"売上データ:\\n{sales_data_text}\\nこの売上データの傾向を分析してください。\"\n",
    "# 表示して確認\n",
    "print(prompt_text)"
   ]
  },
  {
   "cell_type": "code",
   "execution_count": 4,
   "id": "97770a3d",
   "metadata": {},
   "outputs": [
    {
     "name": "stdout",
     "output_type": "stream",
     "text": [
      "この売上データを分析するにあたって、以下の観点からのインサイトを提供します。\n",
      "\n",
      "### 1. カテゴリー別売上分析\n",
      "- **食品、衣服、日用品**の3つの主要なカテゴリーが確認できます。\n",
      "- **売上総額**: 各カテゴリーごとの売上総額を計算し、最も売上が高いカテゴリーを特定します。\n",
      "\n",
      "### 2. 商品別パフォーマンス\n",
      "- 各商品ごとの売上、数量、利益（利益 = 売上 - 原価）を評価します。\n",
      "- ベストセラー商品（売上や数量が最も多い商品）を特定します。\n",
      "\n",
      "### 3. 月別売上トレンド\n",
      "- 売上日を基に月別の売上トレンドを作成し、特定の月での売上の急増や減少を確認します。\n",
      "- 特定の季節やイベント（例: 年末、バレンタインデーなど）による影響を探ります。\n",
      "\n",
      "### 4. 利益率の分析\n",
      "- 各商品やカテゴリーの**利益率**（利益率 = (売上 - 原価) / 売上）を計算し、利益率が高い商品を特定します。\n",
      "- 利益率が高いが売上が低い商品に対するマーケティング戦略を考えます。\n",
      "\n",
      "### 5. 単価と数量の相関分析\n",
      "- 単価が高い商品が数量的にどう販売されているかを分析します。高単価商品は短期間での売上が高いのか、逆に低単価商品が売れやすいのかを見ることができます。\n",
      "\n",
      "### 分析結果の例\n",
      "例えば、以下のような分析結果が得られるかもしれません。\n",
      "- **食品カテゴリー**が最も売上が高く、特にりんごとバナナの人気が高い。\n",
      "- **衣服カテゴリー**の中では、Tシャツの売上が突出して高い。\n",
      "- 4月は全体的に売上が増加している傾向が見られ、特に清掃関連商品（バスブラシなど）が好調。\n",
      "- 一部の商品の利益率が顕著に高く、これらの商品は更なるマーケティング支援が求められる。\n",
      "\n",
      "### 提案\n",
      "1. **プロモーション戦略**: ベストセラー商品や高利益率の商品に対するターゲット広告やキャンペーンの強化を図ります。\n",
      "2. **在庫調整**: 売上の波に応じた在庫調整を行い、欠品や余剰在庫を防ぎます。\n",
      "3. **新商品開発**: トレンドや人気商品を踏まえた新商品の開発を検討します。\n",
      "\n",
      "このような分析を通じて、企業の成長を支援するための戦略を立案することが可能です。データに基づいて具体的なアクションプランを提案することが大切です。\n"
     ]
    }
   ],
   "source": [
    "# 3. OpenAI APIの呼び出し\n",
    "\n",
    "# 役割を設定\n",
    "role = \"あなたはマーケティング分野に精通したデータサイエンティストです。企業の成長をサポートするために、効果的なインサイトを提供します。\"\n",
    "\n",
    "# APIへリクエスト\n",
    "response = client.chat.completions.create(\n",
    "    model=MODEL_NAME,\n",
    "    messages=[\n",
    "        {\"role\": \"system\", \"content\": role},\n",
    "        {\"role\": \"user\", \"content\": prompt_text},\n",
    "    ],\n",
    ")\n",
    "\n",
    "# LLMからの回答を表示\n",
    "print(response.choices[0].message.content.strip())"
   ]
  },
  {
   "cell_type": "code",
   "execution_count": 5,
   "id": "19856f05",
   "metadata": {},
   "outputs": [
    {
     "name": "stdout",
     "output_type": "stream",
     "text": [
      "                                                   結果\n",
      "0              この売上データを分析するにあたって、以下の観点からのインサイトを提供します。\n",
      "1                                                    \n",
      "2                                   ### 1. カテゴリー別売上分析\n",
      "3                 - **食品、衣服、日用品**の3つの主要なカテゴリーが確認できます。\n",
      "4   - **売上総額**: 各カテゴリーごとの売上総額を計算し、最も売上が高いカテゴリーを特定します。\n",
      "5                                                    \n",
      "6                                   ### 2. 商品別パフォーマンス\n",
      "7               - 各商品ごとの売上、数量、利益（利益 = 売上 - 原価）を評価します。\n",
      "8                     - ベストセラー商品（売上や数量が最も多い商品）を特定します。\n",
      "9                                                    \n",
      "10                                    ### 3. 月別売上トレンド\n",
      "11        - 売上日を基に月別の売上トレンドを作成し、特定の月での売上の急増や減少を確認します。\n",
      "12          - 特定の季節やイベント（例: 年末、バレンタインデーなど）による影響を探ります。\n",
      "13                                                   \n",
      "14                                      ### 4. 利益率の分析\n",
      "15  - 各商品やカテゴリーの**利益率**（利益率 = (売上 - 原価) / 売上）を計算し、...\n",
      "16                - 利益率が高いが売上が低い商品に対するマーケティング戦略を考えます。\n",
      "17                                                   \n",
      "18                                  ### 5. 単価と数量の相関分析\n",
      "19  - 単価が高い商品が数量的にどう販売されているかを分析します。高単価商品は短期間での売上が高...\n",
      "20                                                   \n",
      "21                                         ### 分析結果の例\n",
      "22                        例えば、以下のような分析結果が得られるかもしれません。\n",
      "23             - **食品カテゴリー**が最も売上が高く、特にりんごとバナナの人気が高い。\n",
      "24                  - **衣服カテゴリー**の中では、Tシャツの売上が突出して高い。\n",
      "25     - 4月は全体的に売上が増加している傾向が見られ、特に清掃関連商品（バスブラシなど）が好調。\n",
      "26       - 一部の商品の利益率が顕著に高く、これらの商品は更なるマーケティング支援が求められる。\n",
      "27                                                   \n",
      "28                                             ### 提案\n",
      "29  1. **プロモーション戦略**: ベストセラー商品や高利益率の商品に対するターゲット広告や...\n",
      "30         2. **在庫調整**: 売上の波に応じた在庫調整を行い、欠品や余剰在庫を防ぎます。\n",
      "31          3. **新商品開発**: トレンドや人気商品を踏まえた新商品の開発を検討します。\n",
      "32                                                   \n",
      "33  このような分析を通じて、企業の成長を支援するための戦略を立案することが可能です。データに基づ...\n"
     ]
    }
   ],
   "source": [
    "# 4. 分析結果をデータフレームに変換\n",
    "result_list = response.choices[0].message.content.strip().split(\"\\n\")\n",
    "df_out = pd.DataFrame(result_list, columns=['結果'])\n",
    "print(df_out)"
   ]
  },
  {
   "cell_type": "code",
   "execution_count": 6,
   "id": "349140b4",
   "metadata": {},
   "outputs": [],
   "source": [
    "# 5. 結果をExcelファイルに保存\n",
    "df_out.to_excel(\"売上データ分析結果.xlsx\", index=False)"
   ]
  },
  {
   "cell_type": "code",
   "execution_count": 7,
   "id": "a39fbacc",
   "metadata": {},
   "outputs": [
    {
     "name": "stdout",
     "output_type": "stream",
     "text": [
      "処理を開始します。\n",
      "Excelファイルに分析結果を保存しました。\n"
     ]
    }
   ],
   "source": [
    "# ワークフロー化\n",
    "print(\"処理を開始します。\")\n",
    "\n",
    "# 1. Excelファイルを読み込む\n",
    "df = pd.read_excel('サンプルデータ.xlsx', sheet_name='売上データ')\n",
    "\n",
    "# 2. データをLLM用にテキスト形式に変換\n",
    "sales_data_text = df.astype(str)\n",
    "prompt_text = f\"売上データ:\\n{sales_data_text}\\nこの売上データの傾向を分析してください。\"\n",
    "\n",
    "# 3. OpenAI APIの呼び出し\n",
    "# 役割を設定\n",
    "role = \"あなたはマーケティング分野に精通したデータサイエンティストです。企業の成長をサポートするために、効果的なインサイトを提供します。\"\n",
    "# APIへリクエスト\n",
    "response = client.chat.completions.create(\n",
    "    model=MODEL_NAME,\n",
    "    messages=[\n",
    "        {\"role\": \"system\", \"content\": role},\n",
    "        {\"role\": \"user\", \"content\": prompt_text},\n",
    "    ],\n",
    ")\n",
    "\n",
    "# 4. 分析結果をデータフレームに変換\n",
    "result_list = response.choices[0].message.content.strip().split(\"\\n\")\n",
    "df_out = pd.DataFrame(result_list, columns=['結果'])\n",
    "\n",
    "# 5. 結果をExcelファイルに保存\n",
    "df_out.to_excel(\"売上データ分析結果.xlsx\", index=False)\n",
    "\n",
    "print(\"Excelファイルに分析結果を保存しました。\")"
   ]
  }
 ],
 "metadata": {
  "kernelspec": {
   "display_name": ".venv",
   "language": "python",
   "name": "python3"
  },
  "language_info": {
   "codemirror_mode": {
    "name": "ipython",
    "version": 3
   },
   "file_extension": ".py",
   "mimetype": "text/x-python",
   "name": "python",
   "nbconvert_exporter": "python",
   "pygments_lexer": "ipython3",
   "version": "3.12.10"
  }
 },
 "nbformat": 4,
 "nbformat_minor": 5
}
