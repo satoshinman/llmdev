{
 "cells": [
  {
   "cell_type": "code",
   "execution_count": 4,
   "id": "23e64441",
   "metadata": {},
   "outputs": [
    {
     "name": "stdout",
     "output_type": "stream",
     "text": [
      "送料は 350 円です。\n",
      "送料込み税込価格は 2330 円です。\n"
     ]
    }
   ],
   "source": [
    "zeinuki = int(input(\"税抜き価格を入力してください: \"))\n",
    "zeikomi = zeinuki * 1.1\n",
    "if zeikomi >= 2000:\n",
    "  souryou = 0\n",
    "  print(f\"送料は無料です。\")\n",
    "else:\n",
    "  souryou = 350\n",
    "  print(f\"送料は {souryou} 円です。\")\n",
    "\n",
    "print(f\"送料込み税込価格は {int(zeikomi + souryou)} 円です。\")\n",
    "\n"
   ]
  }
 ],
 "metadata": {
  "kernelspec": {
   "display_name": ".venv",
   "language": "python",
   "name": "python3"
  },
  "language_info": {
   "codemirror_mode": {
    "name": "ipython",
    "version": 3
   },
   "file_extension": ".py",
   "mimetype": "text/x-python",
   "name": "python",
   "nbconvert_exporter": "python",
   "pygments_lexer": "ipython3",
   "version": "3.12.10"
  }
 },
 "nbformat": 4,
 "nbformat_minor": 5
}
