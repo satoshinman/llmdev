{
 "cells": [
  {
   "cell_type": "code",
   "execution_count": 10,
   "id": "cebd3324",
   "metadata": {},
   "outputs": [
    {
     "name": "stdout",
     "output_type": "stream",
     "text": [
      "計算結果: 4.00\n"
     ]
    }
   ],
   "source": [
    "num_a = input(\"数値Aを入力してください: \")\n",
    "try:\n",
    "    chk = float(num_a)\n",
    "    num_b = input(\"数値Bを入力してください: \")\n",
    "    try:\n",
    "        result = int(num_a) / int(num_b)\n",
    "    except ZeroDivisionError:\n",
    "        print(\"数値Bエラー: 0で割ることはできません\")\n",
    "    except ValueError:\n",
    "        print(\"数値Bエラー: 数値を入力してください\")\n",
    "    else:\n",
    "        print(f\"計算結果: {result:.2f}\")\n",
    "except ValueError:\n",
    "    print(\"数値Aエラー: 数値を入力してください\")"
   ]
  }
 ],
 "metadata": {
  "kernelspec": {
   "display_name": ".venv",
   "language": "python",
   "name": "python3"
  },
  "language_info": {
   "codemirror_mode": {
    "name": "ipython",
    "version": 3
   },
   "file_extension": ".py",
   "mimetype": "text/x-python",
   "name": "python",
   "nbconvert_exporter": "python",
   "pygments_lexer": "ipython3",
   "version": "3.12.10"
  }
 },
 "nbformat": 4,
 "nbformat_minor": 5
}
