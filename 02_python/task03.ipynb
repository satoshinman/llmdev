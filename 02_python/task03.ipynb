{
 "cells": [
  {
   "cell_type": "code",
   "execution_count": 8,
   "id": "21b30b0f",
   "metadata": {},
   "outputs": [
    {
     "name": "stdout",
     "output_type": "stream",
     "text": [
      "1 年後の総額は 1050.00 円です。\n",
      "2 年後の総額は 1102.50 円です。\n",
      "3 年後の総額は 1157.62 円です。\n",
      "4 年後の総額は 1215.51 円です。\n",
      "5 年後の総額は 1276.28 円です。\n",
      "6 年後の総額は 1340.10 円です。\n",
      "7 年後の総額は 1407.10 円です。\n",
      "8 年後の総額は 1477.46 円です。\n",
      "9 年後の総額は 1551.33 円です。\n",
      "10 年後の総額は 1628.89 円です。\n"
     ]
    }
   ],
   "source": [
    "gankin = int(input(\"元金を入力してください: \"))\n",
    "nenri = int(input(\"年利を入力してください: \"))\n",
    "for i in range(10):\n",
    "  gankin = gankin * (1 + (nenri / 100))\n",
    "  print(f\"{i + 1} 年後の総額は {gankin:.2f} 円です。\")\n"
   ]
  }
 ],
 "metadata": {
  "kernelspec": {
   "display_name": ".venv",
   "language": "python",
   "name": "python3"
  },
  "language_info": {
   "codemirror_mode": {
    "name": "ipython",
    "version": 3
   },
   "file_extension": ".py",
   "mimetype": "text/x-python",
   "name": "python",
   "nbconvert_exporter": "python",
   "pygments_lexer": "ipython3",
   "version": "3.12.10"
  }
 },
 "nbformat": 4,
 "nbformat_minor": 5
}
